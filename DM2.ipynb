{
 "cells": [
  {
   "cell_type": "code",
   "execution_count": 2,
   "metadata": {},
   "outputs": [],
   "source": [
    "import numpy as np"
   ]
  },
  {
   "cell_type": "code",
   "execution_count": 3,
   "metadata": {},
   "outputs": [],
   "source": [
    "T=200\n",
    "k=100\n",
    "R_y=0.02 #in [0.02, 0.25, 0.5]\n",
    "rho=0.75\n",
    "a=1\n",
    "b=1\n",
    "A=1\n",
    "B=1\n",
    "s=5 #in [5,10,100]"
   ]
  },
  {
   "cell_type": "code",
   "execution_count": 4,
   "metadata": {},
   "outputs": [],
   "source": [
    "gamma2=np.random.beta(a,b)\n",
    "q=np.random.beta(A,B)\n",
    "v_x=1"
   ]
  },
  {
   "cell_type": "code",
   "execution_count": 5,
   "metadata": {},
   "outputs": [],
   "source": [
    "def sample_beta(k, s):\n",
    "    \"\"\"Sample of beta vector of dimensions 1*k\n",
    "\n",
    "    Args:\n",
    "        k (int): number of predictors\n",
    "        s (int): number of non-zero elements of beta\n",
    "\n",
    "    Returns:\n",
    "        np.array: dimensions 1*k\n",
    "    \"\"\"\n",
    "    beta=np.zeros(k)\n",
    "    index_normal_distribution=np.random.choice(len(beta), size=s, replace=False)\n",
    "    beta[index_normal_distribution] = np.random.normal(loc=0, scale=1, size=s)\n",
    "    return beta\n",
    "\n",
    "def sample_Z(beta):\n",
    "    Z=beta\n",
    "    Z[Z!=0]=1\n",
    "\n",
    "    return Z\n",
    "\n",
    "def compute_R2(q, k, gamma2, v_x):\n",
    "    return (q*k*gamma2*v_x)/(q*k*gamma2*v_x+1)\n",
    "\n",
    "def compute_X(T, k, rho):\n",
    "    \"\"\"Compute matrix of xt observations\n",
    "\n",
    "    Args:\n",
    "        T (int): number of observations\n",
    "        k (int): number of predictors\n",
    "        rho (float): Toeplitz correlation parameter\n",
    "\n",
    "    Returns:\n",
    "        np.array: dimensions T*k\n",
    "    \"\"\"\n",
    "    cov_matrix=np.zeros((k, k))\n",
    "    for i in range(k):\n",
    "        for j in range(k):\n",
    "            cov_matrix[i,j]=rho**np.abs(i-j)\n",
    "    return np.random.multivariate_normal([0]*k, cov_matrix, T)\n",
    "\n",
    "def compute_sigma2(R_y, beta, X):\n",
    "    \"\"\" Compute sigma2\n",
    "    Args:\n",
    "        R_y (float): pourcentage of explained variance\n",
    "        beta (np.array): beta previously sampled\n",
    "        X (np.array): matrix of (xt) samples\n",
    "\n",
    "    Returns:\n",
    "        float: dimensions 1*1\n",
    "    \"\"\"\n",
    "    return (1/R_y-1)*np.mean(np.square(X @ beta))\n",
    "\n",
    "def sample_epsilon(T, sigma2):\n",
    "    \"\"\"Sample epsilon_1,...,epsilon_T\n",
    "\n",
    "    Args:\n",
    "        T (int): number of observations\n",
    "        sigma2 (float): sigma2 previously sampled\n",
    "\n",
    "    Returns:\n",
    "        np.array: dimensions 1*T\n",
    "    \"\"\"\n",
    "    return np.random.normal(loc=0, scale=sigma2, size=T)\n",
    "\n",
    "def compute_Y(X, beta, epsilon):\n",
    "    return X@beta + epsilon\n",
    "    "
   ]
  },
  {
   "cell_type": "code",
   "execution_count": 6,
   "metadata": {},
   "outputs": [],
   "source": [
    "beta=sample_beta(k=k, s=s)\n",
    "Z=sample_Z(beta=beta)\n",
    "R2=compute_R2(q=q, k=k, gamma2=gamma2, v_x=v_x)\n",
    "X=compute_X(T=T, k=k, rho=rho)\n",
    "sigma2=compute_sigma2(R_y=R_y, beta=beta, X=X)\n",
    "epsilon=sample_epsilon(T=T, sigma2=sigma2)\n",
    "Y=compute_Y(X=X, beta=beta, epsilon=epsilon)"
   ]
  },
  {
   "cell_type": "markdown",
   "metadata": {},
   "source": [
    "* $l=0$ dans l'énoncé donc, $U=0$: bizarre comme certaines variances dépendent de U (celle du posterior de $\\phi$) et valent donc 0\n",
    "* Doute sur la génération de $\\beta$ et $Z$: en théorie $\\beta$, suit un mélange de lois (gaussien + dirac). Or, dans l'énoncé on demande explicitement de mettre $k-s$ élements de $\\beta$ à 0 et les autres composantes suivent une normale centrée réduite. De plus, $Z_j$ suit une loi de bernouilli de param_tre $q$. Or, dans ce cas, il n'y a pas de simulation aléatoire de $Z$. On regarde juste les composantes de $\\beta$ non-nulles. Je trouve ça étrange."
   ]
  }
 ],
 "metadata": {
  "kernelspec": {
   "display_name": "base",
   "language": "python",
   "name": "python3"
  },
  "language_info": {
   "codemirror_mode": {
    "name": "ipython",
    "version": 3
   },
   "file_extension": ".py",
   "mimetype": "text/x-python",
   "name": "python",
   "nbconvert_exporter": "python",
   "pygments_lexer": "ipython3",
   "version": "3.9.13"
  }
 },
 "nbformat": 4,
 "nbformat_minor": 2
}
