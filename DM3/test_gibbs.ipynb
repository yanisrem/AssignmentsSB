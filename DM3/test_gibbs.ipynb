{
 "cells": [
  {
   "cell_type": "code",
   "execution_count": 1,
   "metadata": {},
   "outputs": [],
   "source": [
    "############\n",
    "# Packages #\n",
    "############\n",
    "import os\n",
    "import numpy as np\n",
    "import pandas as pd\n",
    "\n",
    "import seaborn as sns\n",
    "import matplotlib.pyplot as plt\n",
    "import plotly.graph_objects as go\n",
    "import plotly.io as pio\n",
    "from pathlib import Path\n",
    "pio.renderers.default = \"plotly_mimetype+notebook\"\n",
    "\n",
    "from sklearn.model_selection import train_test_split\n",
    "from sklearn.compose import ColumnTransformer\n",
    "from sklearn.pipeline import Pipeline\n",
    "from sklearn.impute import SimpleImputer\n",
    "from sklearn.preprocessing import FunctionTransformer, StandardScaler\n",
    "\n",
    "from src.init_parameters import init_parameters\n",
    "from src.vectorize import vectorize_data\n",
    "from src.gibbs_sampler import gibbs_sampler_joint_post"
   ]
  },
  {
   "cell_type": "code",
   "execution_count": 2,
   "metadata": {},
   "outputs": [],
   "source": [
    "root_path = Path(os.getcwd())\n",
    "data_path = root_path.joinpath(\"Macro1.csv\")\n",
    "df = pd.read_csv(data_path)\n",
    "df.drop('sasdate', axis=1, inplace=True)\n",
    "df = df.iloc[1:,:]\n",
    "\n",
    "df_y = df[\"INDPRO\"]\n",
    "df_x = df.drop('INDPRO', axis=1).copy()\n",
    "\n",
    "TEST_SIZE = 0.3\n",
    "df_x_train, df_x_test, df_y_train, df_y_test = train_test_split(df_x, df_y, test_size=TEST_SIZE, shuffle=False)\n",
    "\n",
    "#Drop columns with too many nan\n",
    "col_to_drop = ['ACOGNO', 'TWEXMMTH', 'UMCSENTx', 'ANDENOx']\n",
    "column_transformer = ColumnTransformer(\n",
    "    transformers=[('drop_columns', 'drop', col_to_drop)],\n",
    "    remainder='passthrough'\n",
    ")\n",
    "#Replace nan values by median for others\n",
    "imputer = SimpleImputer(strategy='median')\n",
    "\n",
    "#Normalize features\n",
    "scaler = StandardScaler()\n",
    "\n",
    "#Convert numpy arrays to Pandas DataFrame\n",
    "to_df = FunctionTransformer(lambda x: pd.DataFrame(x, columns=df_x.columns.drop(col_to_drop)), validate=False)\n",
    "\n",
    "pipeline_drop_imputer = Pipeline([\n",
    "    ('preprocessor', column_transformer),\n",
    "    ('imputer', imputer),\n",
    "    ('scaler', scaler),\n",
    "    ('to_dataframe', to_df)\n",
    "])\n",
    "\n",
    "df_x_train_transform = pipeline_drop_imputer.fit_transform(df_x_train)\n",
    "df_x_test_transform = pipeline_drop_imputer.transform(df_x_test)\n",
    "\n",
    "df_train_transform = df_x_train_transform.copy()\n",
    "df_train_transform[\"INDPRO\"] = df_y_train.values\n",
    "df_test_transform = df_x_test_transform.copy()\n",
    "df_test_transform[\"INDPRO\"] = df_y_test.values"
   ]
  },
  {
   "cell_type": "code",
   "execution_count": 3,
   "metadata": {},
   "outputs": [],
   "source": [
    "X_train = df_train_transform.values"
   ]
  },
  {
   "cell_type": "code",
   "execution_count": 4,
   "metadata": {},
   "outputs": [
    {
     "data": {
      "text/plain": [
       "(469, 122)"
      ]
     },
     "execution_count": 4,
     "metadata": {},
     "output_type": "execute_result"
    }
   ],
   "source": [
    "X_train.shape"
   ]
  },
  {
   "cell_type": "markdown",
   "metadata": {},
   "source": [
    "## Init and vectorize"
   ]
  },
  {
   "cell_type": "code",
   "execution_count": 99,
   "metadata": {},
   "outputs": [
    {
     "ename": "ValueError",
     "evalue": "could not broadcast input array from shape (122,) into shape (347,)",
     "output_type": "error",
     "traceback": [
      "\u001b[1;31m---------------------------------------------------------------------------\u001b[0m",
      "\u001b[1;31mValueError\u001b[0m                                Traceback (most recent call last)",
      "Cell \u001b[1;32mIn[99], line 10\u001b[0m\n\u001b[0;32m      7\u001b[0m B \u001b[38;5;241m=\u001b[39m \u001b[38;5;241m1\u001b[39m\n\u001b[0;32m      9\u001b[0m dct \u001b[38;5;241m=\u001b[39m init_parameters(T, k, l, a, b, A, B, X_train)\n\u001b[1;32m---> 10\u001b[0m data0 \u001b[38;5;241m=\u001b[39m vectorize_data(dct\u001b[38;5;241m=\u001b[39mdct,T\u001b[38;5;241m=\u001b[39mT,k\u001b[38;5;241m=\u001b[39mk,l\u001b[38;5;241m=\u001b[39ml,a\u001b[38;5;241m=\u001b[39ma,b\u001b[38;5;241m=\u001b[39mb,A\u001b[38;5;241m=\u001b[39mA,B\u001b[38;5;241m=\u001b[39mB)\n",
      "File \u001b[1;32mc:\\Users\\yanis\\OneDrive\\Documents\\ENSAE 3A\\SB\\AssignmentsSB\\DM3\\src\\vectorize.py:50\u001b[0m, in \u001b[0;36mvectorize_data\u001b[1;34m(dct, T, k, l, a, b, A, B, seed)\u001b[0m\n\u001b[0;32m     48\u001b[0m data[\u001b[38;5;241m1\u001b[39m,:]\u001b[38;5;241m=\u001b[39mdct[\u001b[38;5;124m\"\u001b[39m\u001b[38;5;124mY\u001b[39m\u001b[38;5;124m\"\u001b[39m]\n\u001b[0;32m     49\u001b[0m data[\u001b[38;5;241m2\u001b[39m,:k] \u001b[38;5;241m=\u001b[39m dct[\u001b[38;5;124m\"\u001b[39m\u001b[38;5;124mZ\u001b[39m\u001b[38;5;124m\"\u001b[39m]\n\u001b[1;32m---> 50\u001b[0m data[\u001b[38;5;241m2\u001b[39m,k:] \u001b[38;5;241m=\u001b[39m dct[\u001b[38;5;124m\"\u001b[39m\u001b[38;5;124mbeta\u001b[39m\u001b[38;5;124m\"\u001b[39m]\n\u001b[0;32m     51\u001b[0m data[\u001b[38;5;241m3\u001b[39m:,:] \u001b[38;5;241m=\u001b[39m dct[\u001b[38;5;124m\"\u001b[39m\u001b[38;5;124mX\u001b[39m\u001b[38;5;124m\"\u001b[39m]\u001b[38;5;241m.\u001b[39mT\n\u001b[0;32m     53\u001b[0m \u001b[38;5;28;01mreturn\u001b[39;00m data\n",
      "\u001b[1;31mValueError\u001b[0m: could not broadcast input array from shape (122,) into shape (347,)"
     ]
    }
   ],
   "source": [
    "T = X_train.shape[0]\n",
    "k = X_train.shape[1]\n",
    "l = 0\n",
    "a = 1\n",
    "b = 1\n",
    "A = 1\n",
    "B = 1\n",
    "\n",
    "dct = init_parameters(T, k, l, a, b, A, B, X_train)\n",
    "data0 = vectorize_data(dct=dct,T=T,k=k,l=l,a=a,b=b,A=A,B=B) #Model vectorization"
   ]
  }
 ],
 "metadata": {
  "kernelspec": {
   "display_name": "base",
   "language": "python",
   "name": "python3"
  },
  "language_info": {
   "codemirror_mode": {
    "name": "ipython",
    "version": 3
   },
   "file_extension": ".py",
   "mimetype": "text/x-python",
   "name": "python",
   "nbconvert_exporter": "python",
   "pygments_lexer": "ipython3",
   "version": "3.11.5"
  }
 },
 "nbformat": 4,
 "nbformat_minor": 2
}
