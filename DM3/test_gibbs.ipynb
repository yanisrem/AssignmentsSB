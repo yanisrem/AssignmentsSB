{
 "cells": [
  {
   "cell_type": "code",
   "execution_count": 1,
   "metadata": {},
   "outputs": [
    {
     "name": "stderr",
     "output_type": "stream",
     "text": [
      "<frozen importlib._bootstrap>:228: RuntimeWarning: scipy._lib.messagestream.MessageStream size changed, may indicate binary incompatibility. Expected 56 from C header, got 64 from PyObject\n"
     ]
    }
   ],
   "source": [
    "############\n",
    "# Packages #\n",
    "############\n",
    "import os\n",
    "import numpy as np\n",
    "import pandas as pd\n",
    "\n",
    "import seaborn as sns\n",
    "import matplotlib.pyplot as plt\n",
    "import plotly.graph_objects as go\n",
    "import plotly.io as pio\n",
    "from pathlib import Path\n",
    "pio.renderers.default = \"plotly_mimetype+notebook\"\n",
    "\n",
    "from sklearn.model_selection import train_test_split\n",
    "from sklearn.compose import ColumnTransformer\n",
    "from sklearn.pipeline import Pipeline\n",
    "from sklearn.impute import SimpleImputer\n",
    "from sklearn.preprocessing import FunctionTransformer, StandardScaler\n",
    "\n",
    "from src.init_parameters import init_parameters\n",
    "from src.vectorize import vectorize_data\n",
    "from src.gibbs_sampler import gibbs_sampler_joint_post\n",
    "\n",
    "\n",
    "from typing import Dict, Union, List, Tuple, Any, Callable, Optional"
   ]
  },
  {
   "cell_type": "code",
   "execution_count": 2,
   "metadata": {},
   "outputs": [],
   "source": [
    "root_path = Path(os.getcwd())\n",
    "data_path = root_path.joinpath(\"Macro1.csv\")\n",
    "df = pd.read_csv(data_path)\n",
    "df.drop('sasdate', axis=1, inplace=True)\n",
    "df = df.iloc[1:,:]\n",
    "\n",
    "df_y = df[\"INDPRO\"]\n",
    "df_x = df.drop('INDPRO', axis=1).copy()\n",
    "\n",
    "TEST_SIZE = 0.3\n",
    "df_x_train, df_x_test, df_y_train, df_y_test = train_test_split(df_x, df_y, test_size=TEST_SIZE, shuffle=False)\n",
    "\n",
    "#Drop columns with too many nan\n",
    "col_to_drop = ['ACOGNO', 'TWEXMMTH', 'UMCSENTx', 'ANDENOx']\n",
    "column_transformer = ColumnTransformer(\n",
    "    transformers=[('drop_columns', 'drop', col_to_drop)],\n",
    "    remainder='passthrough'\n",
    ")\n",
    "#Replace nan values by median for others\n",
    "imputer = SimpleImputer(strategy='median')\n",
    "\n",
    "#Normalize features\n",
    "scaler = StandardScaler()\n",
    "\n",
    "#Convert numpy arrays to Pandas DataFrame\n",
    "to_df = FunctionTransformer(lambda x: pd.DataFrame(x, columns=df_x.columns.drop(col_to_drop)), validate=False)\n",
    "\n",
    "pipeline_drop_imputer = Pipeline([\n",
    "    ('preprocessor', column_transformer),\n",
    "    ('imputer', imputer),\n",
    "    ('scaler', scaler),\n",
    "    ('to_dataframe', to_df)\n",
    "])\n",
    "\n",
    "df_x_train_transform = pipeline_drop_imputer.fit_transform(df_x_train)\n",
    "df_x_test_transform = pipeline_drop_imputer.transform(df_x_test)\n",
    "\n",
    "df_train_transform = df_x_train_transform.copy()\n",
    "df_train_transform[\"INDPRO\"] = df_y_train.values\n",
    "df_test_transform = df_x_test_transform.copy()\n",
    "df_test_transform[\"INDPRO\"] = df_y_test.values"
   ]
  },
  {
   "cell_type": "code",
   "execution_count": 3,
   "metadata": {},
   "outputs": [],
   "source": [
    "X_train = df_train_transform.values"
   ]
  },
  {
   "cell_type": "code",
   "execution_count": 4,
   "metadata": {},
   "outputs": [
    {
     "data": {
      "text/plain": [
       "(469, 122)"
      ]
     },
     "execution_count": 4,
     "metadata": {},
     "output_type": "execute_result"
    }
   ],
   "source": [
    "X_train.shape"
   ]
  },
  {
   "cell_type": "markdown",
   "metadata": {},
   "source": [
    "## Init and vectorize"
   ]
  },
  {
   "cell_type": "code",
   "execution_count": 5,
   "metadata": {},
   "outputs": [],
   "source": [
    "T = X_train.shape[0]\n",
    "k = X_train.shape[1]\n",
    "l = 0\n",
    "a = 1\n",
    "b = 1\n",
    "A = 1\n",
    "B = 1\n",
    "\n",
    "dct = init_parameters(T, k, l, a, b, A, B, X_train)\n",
    "data0 = vectorize_data(dct=dct,T=T,k=k,l=l,a=a,b=b,A=A,B=B) #Model vectorization"
   ]
  },
  {
   "cell_type": "code",
   "execution_count": null,
   "metadata": {},
   "outputs": [],
   "source": [
    "data1, accu = gibbs_sampler_joint_post(data0, n_iter = 1000, burn_in_period=1, n_iter_zi=2, seed=1, debug = True)"
   ]
  },
  {
   "cell_type": "code",
   "execution_count": null,
   "metadata": {},
   "outputs": [],
   "source": [
    " ########\n",
    "# Plot #\n",
    "########\n",
    "\n",
    "def plot_signal(vec, title = \"signal\"):\n",
    "    fig = px.line(vec, template = \"plotly_dark\", title = title)\n",
    "    fig.show()\n",
    "\n",
    "def plot_sample(\n",
    "    sampling: np.ndarray,\n",
    "    size: Optional[int] = 10,\n",
    "    levels: Optional[int] = 20,\n",
    "    title: Optional[str] = \"sampling\"\n",
    ") -> None:\n",
    "    \"\"\"\n",
    "    Plot a scatter plot and kernel density estimate of a 2D sampling.\n",
    "\n",
    "    Args:\n",
    "    - sampling (np.ndarray): 2D array representing the sampled data.\n",
    "    - size (Optional[int]): Size of the figure (default is 10).\n",
    "    - levels (Optional[int]): Number of levels in the contour plot (default is 20).\n",
    "    - title (Optional[str]): Title of the plot (default is \"sampling\").\n",
    "\n",
    "    Returns:\n",
    "    None\n",
    "    \"\"\"\n",
    "    fig_sampling = plt.figure(figsize=(size, size))\n",
    "    plt.scatter(x = sampling[:,0], y = sampling[:,1], marker =\"o\", alpha = 0.1)\n",
    "    sns.kdeplot(x = sampling[:,0], y = sampling[:,1], alpha = 1, levels = levels, cmap= \"Blues\" )\n",
    "    plt.title(title)\n",
    "    fig_sampling.show()\n",
    "\n",
    "def plot_mcmc_traj(\n",
    "    traj: np.ndarray,\n",
    "    size: Optional[int] = 10,\n",
    "    trajname: Optional[str] = \"HM\"\n",
    ") -> None:\n",
    "    \"\"\"\n",
    "    Plot the trajectory of an MCMC sampler.\n",
    "\n",
    "    Args:\n",
    "    - traj (np.ndarray): 2D array representing the MCMC trajectory.\n",
    "    - size (Optional[int]): Size of the figure (default is 10).\n",
    "    - trajname (Optional[str]): Name of the MCMC sampler (default is \"HM\").\n",
    "\n",
    "    Returns:\n",
    "    None\n",
    "    \"\"\"\n",
    "    traj_length = traj.shape[0]\n",
    "    dim = traj.shape[1]\n",
    "    colors = sns.color_palette(\"viridis\", traj_length).as_hex()\n",
    "    plt.figure(figsize=(size, size))\n",
    "    sns.set(style='dark')\n",
    "\n",
    "    if dim==2 or dim > 5:\n",
    "        plt.scatter(x = traj[:,0], y = traj[:,1], marker =\"o\", alpha = 0.5, color=colors)\n",
    "    else:\n",
    "        df = pd.DataFrame(traj, columns = np.arange(dim))\n",
    "        df[\"step\"] = np.arange(traj_length)\n",
    "        sns.pairplot(df, hue=\"step\", palette = colors)\n",
    "\n",
    "    plt.title(f\"Trajectory of the {trajname} sampler\")\n",
    "    plt.show()\n",
    "\n",
    "def plot_autocorrelations(\n",
    "    traj: np.ndarray,\n",
    "    size: Optional[int] = 10,\n",
    "    trajname: Optional[str] = \"HM\",\n",
    "    nlags: Optional[int] = 80\n",
    ") -> None:\n",
    "    \"\"\"\n",
    "    Plot autocorrelations of an MCMC trajectory.\n",
    "\n",
    "    Args:\n",
    "    - traj (np.ndarray): 2D array representing the MCMC trajectory.\n",
    "    - size (Optional[int]): Size of the figure (default is 10).\n",
    "    - trajname (Optional[str]): Name of the MCMC sampler (default is \"HM\").\n",
    "    - nlags (Optional[int]): Number of lags to plot (default is 80).\n",
    "\n",
    "    Returns:\n",
    "    None\n",
    "    \"\"\"\n",
    "    dim = traj.shape[1]\n",
    "    plt.figure(figsize=(size,size))\n",
    "    for i in range(dim):\n",
    "        pd.plotting.autocorrelation_plot(traj[:,i], label=f'Autocorrelation of dim {i}',linewidth=2)\n",
    "    plt.title(f\"Autocorrelations {trajname}\")\n",
    "    plt.xlim((0,nlags)) #limit lags\n",
    "    plt.show()\n",
    "\n",
    "\n",
    "def plot_hist(sample, title, nbins = 400):\n",
    "    fig = px.histogram(sample,\n",
    "                   histnorm='probability density',\n",
    "                   title = title,\n",
    "                   nbins = nbins\n",
    "                  )\n",
    "    fig.show()"
   ]
  },
  {
   "cell_type": "code",
   "execution_count": null,
   "metadata": {},
   "outputs": [],
   "source": [
    "mat_R2_q = np.array([accu[\"R2 post\"], accu[\"q post\"]]).T\n",
    "print(mat_R2_q.shape)"
   ]
  },
  {
   "cell_type": "code",
   "execution_count": null,
   "metadata": {},
   "outputs": [],
   "source": [
    "plot_mcmc_traj(\n",
    "    mat_R2_q,\n",
    "    trajname = \"Gibbs R2 q\"\n",
    ")\n",
    "plot_autocorrelations(mat_R2_q, trajname = \"Gibbs R2 q\")"
   ]
  },
  {
   "cell_type": "code",
   "execution_count": null,
   "metadata": {},
   "outputs": [],
   "source": []
  }
 ],
 "metadata": {
  "kernelspec": {
   "display_name": "Python 3 (ipykernel)",
   "language": "python",
   "name": "python3"
  },
  "language_info": {
   "codemirror_mode": {
    "name": "ipython",
    "version": 3
   },
   "file_extension": ".py",
   "mimetype": "text/x-python",
   "name": "python",
   "nbconvert_exporter": "python",
   "pygments_lexer": "ipython3",
   "version": "3.9.18"
  }
 },
 "nbformat": 4,
 "nbformat_minor": 4
}
